{
 "cells": [
  {
   "cell_type": "markdown",
   "metadata": {},
   "source": [
    "## Requirements\n",
    "Python 3.6.3  \n",
    "numpy==1.13.3  \n",
    "pandas==0.20.3  \n",
    "tqdm==4.25.0  \n",
    "lightgbm==2.1.2  \n",
    "scikit-learn==0.19.1  \n",
    "matplotlib==2.1.0  \n",
    "seaborn==0.8"
   ]
  },
  {
   "cell_type": "markdown",
   "metadata": {},
   "source": [
    "## Run\n",
    "\n",
    "* Add data into \"../input\" folder.\n",
    "* Run this notebook.   \n",
    "  around 30 minites in laptop. (if SHORT_RUN == True, 10 minites)"
   ]
  },
  {
   "cell_type": "code",
   "execution_count": 1,
   "metadata": {
    "collapsed": true
   },
   "outputs": [],
   "source": [
    "import numpy as np\n",
    "import pandas as pd\n",
    "import os\n",
    "import itertools\n",
    "from tqdm import tqdm_notebook\n",
    "import lightgbm as lgb\n",
    "from sklearn.metrics import mean_squared_error\n",
    "from sklearn.linear_model import Ridge\n",
    "from sklearn.preprocessing import StandardScaler, LabelEncoder\n",
    "import gc\n",
    "import numpy as np\n",
    "import matplotlib.pyplot as plt\n",
    "import seaborn as sns\n",
    "sns.set() \n",
    "\n",
    "SHORT_RUN = False"
   ]
  },
  {
   "cell_type": "markdown",
   "metadata": {},
   "source": [
    "## Load Files"
   ]
  },
  {
   "cell_type": "code",
   "execution_count": 2,
   "metadata": {
    "collapsed": true
   },
   "outputs": [],
   "source": [
    "sales = pd.read_csv(\"../input/sales_train_v2.csv\")\n",
    "item_categories = pd.read_csv(\"../input/item_categories.csv\")\n",
    "items = pd.read_csv(\"../input/items.csv\")\n",
    "submission = pd.read_csv(\"../input/sample_submission.csv\")\n",
    "shops = pd.read_csv(\"../input/shops.csv\")\n",
    "test = pd.read_csv(\"../input/test.csv\")\n",
    "index_cols = ['shop_id', 'item_id', 'date_block_num']"
   ]
  },
  {
   "cell_type": "markdown",
   "metadata": {},
   "source": [
    "## Preprocess / Feature Engineering"
   ]
  },
  {
   "cell_type": "markdown",
   "metadata": {},
   "source": [
    "### lag feature \n",
    "\n",
    "* includes statistical features(target_shop sum, target_item sum)"
   ]
  },
  {
   "cell_type": "code",
   "execution_count": 3,
   "metadata": {},
   "outputs": [
    {
     "name": "stderr",
     "output_type": "stream",
     "text": [
      "C:\\Users\\dai\\Anaconda3\\lib\\site-packages\\pandas\\core\\groupby.py:4036: FutureWarning: using a dict with renaming is deprecated and will be removed in a future version\n",
      "  return super(DataFrameGroupBy, self).aggregate(arg, *args, **kwargs)\n"
     ]
    }
   ],
   "source": [
    "def create_all_data():\n",
    "\n",
    "    # enumerate (shop-month, item_id, date_block_num) combinations\n",
    "    grid = []\n",
    "    for block_num in sales['date_block_num'].unique():\n",
    "        cur_shops = sales.loc[sales['date_block_num'] == block_num, 'shop_id'].unique()\n",
    "        cur_items = sales.loc[sales['date_block_num'] == block_num, 'item_id'].unique()\n",
    "        grid.append(np.array(list(itertools.product(*[cur_shops, cur_items, [block_num]])),dtype='int32'))\n",
    "\n",
    "    grid = pd.DataFrame(np.vstack(grid), columns = index_cols,dtype=np.int32)\n",
    "    \n",
    "    # (shop-month, item_id) aggregates\n",
    "    gb = sales.groupby(index_cols,as_index=False).agg({'item_cnt_day':{'target':'sum'}})\n",
    "    gb.columns = [col[0] if col[-1]=='' else col[-1] for col in gb.columns.values] \n",
    "    all_data = pd.merge(grid, gb, how='left', on=index_cols).fillna(0)\n",
    "\n",
    "    # shop-month aggregates\n",
    "    gb = sales.groupby(['shop_id', 'date_block_num'],as_index=False).agg({'item_cnt_day':{'target_shop':'sum'}})\n",
    "    gb.columns = [col[0] if col[-1]=='' else col[-1] for col in gb.columns.values]\n",
    "    all_data = pd.merge(all_data, gb, how='left', on=['shop_id', 'date_block_num']).fillna(0)\n",
    "\n",
    "    # item-month aggregates\n",
    "    gb = sales.groupby(['item_id', 'date_block_num'],as_index=False).agg({'item_cnt_day':{'target_item':'sum'}})\n",
    "    gb.columns = [col[0] if col[-1] == '' else col[-1] for col in gb.columns.values]\n",
    "    all_data = pd.merge(all_data, gb, how='left', on=['item_id', 'date_block_num']).fillna(0)\n",
    "    \n",
    "    return all_data\n",
    "\n",
    "all_data = create_all_data()"
   ]
  },
  {
   "cell_type": "markdown",
   "metadata": {},
   "source": [
    "### text feature\n",
    "\n",
    "* extract text feature from shop names"
   ]
  },
  {
   "cell_type": "code",
   "execution_count": 4,
   "metadata": {
    "collapsed": true
   },
   "outputs": [],
   "source": [
    "shops[\"shop_name1\"] = shops[\"shop_name\"].str.split(\" \").map(lambda tpl:tpl[0])\n",
    "shops[\"shop_name2\"] = shops[\"shop_name\"].str.split(\" \").map(lambda tpl:tpl[1])\n",
    "shops[\"shop_name1\"] = LabelEncoder().fit_transform(shops[\"shop_name1\"])\n",
    "shops[\"shop_name2\"] = LabelEncoder().fit_transform(shops[\"shop_name2\"])"
   ]
  },
  {
   "cell_type": "markdown",
   "metadata": {},
   "source": [
    "## EDA\n",
    "* target distribution\n",
    "* time trend"
   ]
  },
  {
   "cell_type": "code",
   "execution_count": 5,
   "metadata": {},
   "outputs": [
    {
     "data": {
      "image/png": "[encoded data removed]",
      "text/plain": [
       "<matplotlib.figure.Figure at 0x1d977fa6ba8>"
      ]
     },
     "metadata": {},
     "output_type": "display_data"
    }
   ],
   "source": [
    "# target distribution\n",
    "fig, axes = plt.subplots(1, 2, figsize=(12, 4))\n",
    "d1 = all_data[\"target\"]\n",
    "d2 = d1[d1 > 5.0]\n",
    "axes[0].hist(np.clip(d1, 0.0, 20.0), bins=20)\n",
    "axes[1].hist(np.clip(d2, 0.0, 20.0), bins=15)\n",
    "axes[0].set_title(\"target distribution - all\")\n",
    "axes[1].set_title(\"target distribution - target > 5.0\")\n",
    "plt.show()"
   ]
  },
  {
   "cell_type": "code",
   "execution_count": 6,
   "metadata": {},
   "outputs": [
    {
     "data": {
      "image/png": "[encoded data removed]",
      "text/plain": [
       "<matplotlib.figure.Figure at 0x1d90a840dd8>"
      ]
     },
     "metadata": {},
     "output_type": "display_data"
    }
   ],
   "source": [
    "# time trend\n",
    "g_shop = all_data.groupby([\"shop_id\", \"date_block_num\"])[\"target\"].sum().reset_index()\n",
    "piv = pd.pivot_table(g_shop, values=\"target\", index=\"shop_id\", columns=\"date_block_num\")\n",
    "\n",
    "fig, ax = plt.subplots(1, 1, figsize=(6, 6))\n",
    "for i in piv.index:\n",
    "    if i % 6 == 0:\n",
    "        ax.plot(piv.columns, piv.loc[i].values, label = \"shop{}\".format(i))\n",
    "\n",
    "ax.set_title(\"time trend - item counts in shops\")\n",
    "ax.set_xlabel(\"date_block\")\n",
    "ax.legend()\n",
    "plt.show()"
   ]
  },
  {
   "cell_type": "markdown",
   "metadata": {},
   "source": [
    "## Aggregate Features"
   ]
  },
  {
   "cell_type": "code",
   "execution_count": 7,
   "metadata": {
    "collapsed": true
   },
   "outputs": [],
   "source": [
    "# set train/test indices\n",
    "train = all_data[index_cols].copy()\n",
    "test['date_block_num'] = 34\n",
    "test = test[index_cols].copy()\n",
    "target = all_data[\"target\"]"
   ]
  },
  {
   "cell_type": "code",
   "execution_count": 8,
   "metadata": {},
   "outputs": [],
   "source": [
    "def add_shift_features(df):    \n",
    "    df = df.copy()        \n",
    "    shift_range = [1, 2, 3, 4, 5, 12]\n",
    "    for month_shift in tqdm_notebook(shift_range):\n",
    "        cols_to_rename = list(all_data.columns.difference(index_cols)) \n",
    "        train_shift = all_data[index_cols + cols_to_rename].copy()\n",
    "        train_shift['date_block_num'] = train_shift['date_block_num'] + month_shift\n",
    "        foo = lambda x: '{}_lag_{}'.format(x, month_shift) if x in cols_to_rename else x\n",
    "        train_shift = train_shift.rename(columns=foo)\n",
    "        df = pd.merge(df, train_shift, on=index_cols, how='left').fillna(0)\n",
    "    return df\n",
    "\n",
    "def add_item_category(df):\n",
    "    df = df.copy()\n",
    "    item_category_mapping = items[['item_id','item_category_id']].drop_duplicates()\n",
    "    df = pd.merge(df, item_category_mapping, how='left', on='item_id')\n",
    "    return df\n",
    "\n",
    "def add_shop_text_features(df):\n",
    "    df = df.copy()\n",
    "    df = pd.merge(df, shops[[\"shop_id\", \"shop_name1\", \"shop_name2\"]], how='left', on='shop_id')\n",
    "    return df"
   ]
  },
  {
   "cell_type": "code",
   "execution_count": 9,
   "metadata": {},
   "outputs": [
    {
     "data": {
      "application/vnd.jupyter.widget-view+json": {
       "model_id": "8be3986abf1248298c95a25a3aa8567d",
       "version_major": 2,
       "version_minor": 0
      },
      "text/plain": [
       "A Jupyter Widget"
      ]
     },
     "metadata": {},
     "output_type": "display_data"
    },
    {
     "name": "stdout",
     "output_type": "stream",
     "text": [
      "\n"
     ]
    },
    {
     "data": {
      "application/vnd.jupyter.widget-view+json": {
       "model_id": "605b1b35073a4112896ef90a15668a16",
       "version_major": 2,
       "version_minor": 0
      },
      "text/plain": [
       "A Jupyter Widget"
      ]
     },
     "metadata": {},
     "output_type": "display_data"
    },
    {
     "name": "stdout",
     "output_type": "stream",
     "text": [
      "\n"
     ]
    }
   ],
   "source": [
    "# add features - train\n",
    "train2 = train.copy()\n",
    "train2 = add_shift_features(train2)\n",
    "train2 = add_item_category(train2)\n",
    "train2 = add_shop_text_features(train2)\n",
    "\n",
    "# don't use old data from year 2013\n",
    "train2 = train2[train['date_block_num'] >= 12] \n",
    "target2 = target[train['date_block_num'] >= 12]\n",
    "\n",
    "# add features - test\n",
    "test2 = test.copy()\n",
    "test2 = add_shift_features(test2)\n",
    "test2 = add_item_category(test2)\n",
    "test2 = add_shop_text_features(test2)\n",
    "\n",
    "train2 = train2.reset_index(drop=True)\n",
    "test2 = test2.reset_index(drop=True)\n",
    "target2 = target2.reset_index(drop=True)"
   ]
  },
  {
   "cell_type": "markdown",
   "metadata": {},
   "source": [
    "# modeling"
   ]
  },
  {
   "cell_type": "markdown",
   "metadata": {},
   "source": [
    "* timewise split\n",
    "* optimized for rmse, clipped into (0.0, 20.0)"
   ]
  },
  {
   "cell_type": "markdown",
   "metadata": {},
   "source": [
    "### Mean Encoding\n",
    "\n",
    "* KFold method(time-based)"
   ]
  },
  {
   "cell_type": "code",
   "execution_count": 10,
   "metadata": {},
   "outputs": [],
   "source": [
    "_train = train2\n",
    "_target = target2\n",
    "_test = test2\n",
    "\n",
    "category_id_enc_tr = np.zeros((len(_train), 1))\n",
    "category_id_enc_te = np.zeros((len(_test), 1))\n",
    "\n",
    "if SHORT_RUN:\n",
    "    train_block_start = 29\n",
    "    validate_date_block_start = 30\n",
    "    test_date_block = 34\n",
    "else:\n",
    "    train_block_start = 12\n",
    "    validate_date_block_start = 13\n",
    "    test_date_block = 34    \n",
    "\n",
    "def mean_encoding(x_tr, y_tr, x_va):\n",
    "    data = x_tr[[\"item_category_id\"]].copy()\n",
    "    data[\"target\"] = y_tr\n",
    "    item_id_target_mean = data.groupby('item_category_id')[\"target\"].mean()\n",
    "    ret = x_va[\"item_category_id\"].map(item_id_target_mean)    \n",
    "    ret = ret.fillna(y_tr.mean())\n",
    "    return ret\n",
    "    \n",
    "for vb in range(validate_date_block_start, test_date_block):\n",
    "    block_tr = _train[\"date_block_num\"]\n",
    "    idx_tr = _train[(block_tr >= train_block_start) & (block_tr < vb)].index\n",
    "    idx_va = _train[block_tr == vb].index\n",
    "    x_tr = _train.iloc[idx_tr]\n",
    "    x_va = _train.iloc[idx_va]\n",
    "    y_tr = _target.iloc[idx_tr]\n",
    "    me_va = mean_encoding(x_tr, y_tr, x_va)\n",
    "    category_id_enc_tr[idx_va, 0] = me_va\n",
    "\n",
    "for vb in [test_date_block]:\n",
    "    block_tr = _train[\"date_block_num\"]\n",
    "    idx_tr = _train[(block_tr >= train_block_start)].index\n",
    "    x_tr = _train.iloc[idx_tr]\n",
    "    x_va = _test\n",
    "    y_tr = _target.iloc[idx_tr]\n",
    "    me_va = mean_encoding(x_tr, y_tr, x_va)\n",
    "    category_id_enc_te = me_va"
   ]
  },
  {
   "cell_type": "markdown",
   "metadata": {},
   "source": [
    "### Models\n",
    "\n",
    "* changed hyperparameters\n",
    "* preprocessing is used for linear model"
   ]
  },
  {
   "cell_type": "code",
   "execution_count": 11,
   "metadata": {},
   "outputs": [],
   "source": [
    "# training\n",
    "lgb_params = {\n",
    "               'feature_fraction': 0.75,\n",
    "               'metric': 'rmse',\n",
    "               'nthread':1, \n",
    "               'min_data_in_leaf': 2**7, \n",
    "               'bagging_fraction': 0.75, \n",
    "               'learning_rate': 0.03, \n",
    "               'objective': 'mse', \n",
    "               'bagging_seed': 2**7, \n",
    "               'num_leaves': 2**7,\n",
    "               'bagging_freq':1,\n",
    "               'verbose':0 \n",
    "              }\n",
    "\n",
    "lr_params = { \"alpha\" : 0.5}\n",
    "\n",
    "class ModelLGB:\n",
    "        \n",
    "    def train(self, x_tr, y_tr, x_va, y_va):\n",
    "        self.model = lgb.train(lgb_params, lgb.Dataset(x_tr, label=y_tr), 100)\n",
    "        return self.model\n",
    "\n",
    "    def predict(self, x_te):\n",
    "        return self.model.predict(x_te)\n",
    "    \n",
    "class ModelLR:\n",
    "\n",
    "    def train(self, x_tr, y_tr, x_va, y_va):\n",
    "        self.scaler = StandardScaler()\n",
    "        self.scaler.fit(x_tr.values)\n",
    "        self.model = Ridge(alpha=lr_params[\"alpha\"])\n",
    "        scaled = self.scaler.transform(x_tr.values)\n",
    "        self.model.fit(scaled, y_tr)\n",
    "        return self.model\n",
    "\n",
    "    def predict(self, x_te):\n",
    "        scaled = self.scaler.transform(x_te.values)\n",
    "        return self.model.predict(scaled)\n",
    "    "
   ]
  },
  {
   "cell_type": "markdown",
   "metadata": {},
   "source": [
    "### 1st level\n",
    "* lightgbm model\n",
    "* linear model"
   ]
  },
  {
   "cell_type": "code",
   "execution_count": 12,
   "metadata": {},
   "outputs": [],
   "source": [
    "train3 = train2.copy()\n",
    "train3[\"category_id_enc\"] = category_id_enc_tr\n",
    "test3 = test2.copy()\n",
    "test3[\"category_id_enc\"] = category_id_enc_te\n",
    "\n",
    "# clip y range in (0.0, 20.0), as competition evaluation does.\n",
    "target3 = np.clip(target2, 0.0, 20.0).copy()\n",
    "\n",
    "_train = train3\n",
    "_target = target3\n",
    "_test = test3"
   ]
  },
  {
   "cell_type": "code",
   "execution_count": 13,
   "metadata": {},
   "outputs": [
    {
     "name": "stdout",
     "output_type": "stream",
     "text": [
      "validation score block 14: 0.928716171255225, 1.3043674232249216\n",
      "validation score block 15: 0.7536808680303272, 0.9908468368658495\n",
      "validation score block 16: 0.7346945718796681, 1.0700847501794104\n",
      "validation score block 17: 0.6056288028955092, 0.9001462991420954\n",
      "validation score block 18: 0.5789109105688458, 0.8109744481979527\n",
      "validation score block 19: 0.7726907991708617, 1.0773522862466904\n",
      "validation score block 20: 0.8178446897187716, 1.2199490143237546\n",
      "validation score block 21: 1.0168191550370784, 1.4209287607113286\n",
      "validation score block 22: 1.0155485551952648, 1.5092236884787498\n",
      "validation score block 23: 1.5135058903575405, 2.080915503665809\n",
      "validation score block 24: 0.7315301217328093, 1.3144494310035932\n",
      "validation score block 25: 0.6482843163060625, 1.2365233053232982\n",
      "validation score block 26: 0.6000743040045928, 1.090040659210965\n",
      "validation score block 27: 0.7977466084865346, 1.014426143757152\n",
      "validation score block 28: 0.6770224791150194, 1.2072109038818333\n",
      "validation score block 29: 0.6033354890654505, 0.8406099877052099\n",
      "validation score block 30: 0.5183105240010367, 0.7322481631320694\n",
      "validation score block 31: 0.6195848545168744, 0.9041753746730452\n",
      "validation score block 32: 0.7704577284443687, 1.1200966447879848\n",
      "validation score block 33: 0.8252188546632704, 1.1138704360720766\n",
      "validation score mean: [ 0.77648028  1.147922  ]\n"
     ]
    }
   ],
   "source": [
    "# use only blocks where mean encoded feature is calculated\n",
    "\n",
    "if SHORT_RUN:\n",
    "    train_block_start = 30\n",
    "    validate_date_block_start = 31\n",
    "    test_date_block = 34\n",
    "else:\n",
    "    train_block_start = 13\n",
    "    validate_date_block_start = 14\n",
    "    test_date_block = 34\n",
    "\n",
    "meta_tr = np.zeros((len(_train), 2))\n",
    "meta_te = np.zeros((len(_test), 2))\n",
    "scores = []\n",
    "\n",
    "for vb in range(validate_date_block_start, test_date_block):\n",
    "    block_tr = _train[\"date_block_num\"]\n",
    "    idx_tr = _train[(block_tr >= train_block_start) & (block_tr < vb)].index\n",
    "    idx_va = _train[block_tr == vb].index\n",
    "    to_drop_cols = ['date_block_num', 'shop_id', 'item_id']\n",
    "    x_tr = _train.iloc[idx_tr].drop(to_drop_cols, axis=1)\n",
    "    x_va = _train.iloc[idx_va].drop(to_drop_cols, axis=1)\n",
    "    y_tr = _target.iloc[idx_tr]\n",
    "    y_va = _target.iloc[idx_va]\n",
    "    \n",
    "    model1 = ModelLGB()\n",
    "    model2 = ModelLR()\n",
    "    model1.train(x_tr, y_tr, x_va, y_va)\n",
    "    model2.train(x_tr, y_tr, x_va, y_va)\n",
    "    pred_va1 = model1.predict(x_va)\n",
    "    pred_va2 = model2.predict(x_va)\n",
    "    meta_tr[idx_va, 0] = pred_va1\n",
    "    meta_tr[idx_va, 1] = pred_va2\n",
    "\n",
    "    score1 = mean_squared_error(y_va, pred_va1)\n",
    "    score2 = mean_squared_error(y_va, pred_va2)\n",
    "    scores.append((score1, score2))\n",
    "    print(\"validation score block {}: {}, {}\".format(vb, score1, score2))\n",
    "\n",
    "scores = np.array(scores)\n",
    "print(\"validation score mean: {}\".format(scores.mean(axis=0)))\n",
    "\n",
    "for vb in [test_date_block]:\n",
    "    to_drop_cols = ['date_block_num', 'shop_id', 'item_id']\n",
    "    block_tr = _train[\"date_block_num\"]\n",
    "    idx_tr = _train[(block_tr >= train_block_start)].index\n",
    "    x_tr = _train.iloc[idx_tr].drop(to_drop_cols, axis=1)\n",
    "    x_va = _test.drop(to_drop_cols, axis=1)\n",
    "    y_tr = _target.iloc[idx_tr]\n",
    "    model1 = ModelLGB()\n",
    "    model2 = ModelLR()\n",
    "    model1.train(x_tr, y_tr, None, None)\n",
    "    model2.train(x_tr, y_tr, None, None)\n",
    "    pred_va1 = model1.predict(x_va)\n",
    "    pred_va2 = model2.predict(x_va)\n",
    "    meta_te[:, 0] = pred_va1\n",
    "    meta_te[:, 1] = pred_va2\n"
   ]
  },
  {
   "cell_type": "markdown",
   "metadata": {},
   "source": [
    "### 2nd level \n",
    "* linear model"
   ]
  },
  {
   "cell_type": "code",
   "execution_count": 14,
   "metadata": {
    "collapsed": true
   },
   "outputs": [],
   "source": [
    "train4 = train3[[\"date_block_num\"]].copy()\n",
    "train4[\"meta_1\"] = meta_tr[:, 0]\n",
    "train4[\"meta_2\"] = meta_tr[:, 1]\n",
    "\n",
    "test4 = test3[[\"date_block_num\"]].copy()\n",
    "test4[\"meta_1\"] = meta_te[:, 0]\n",
    "test4[\"meta_2\"] = meta_te[:, 1]\n",
    "\n",
    "_train = train4\n",
    "_target = target3\n",
    "_test = test4"
   ]
  },
  {
   "cell_type": "code",
   "execution_count": 15,
   "metadata": {},
   "outputs": [
    {
     "name": "stdout",
     "output_type": "stream",
     "text": [
      "validation score block 15: 0.7371524049147798\n",
      "validation score block 16: 0.7529681710774813\n",
      "validation score block 17: 0.6316268563770899\n",
      "validation score block 18: 0.5793811103028392\n",
      "validation score block 19: 0.779022977902452\n",
      "validation score block 20: 0.8218557467105134\n",
      "validation score block 21: 1.017535793394832\n",
      "validation score block 22: 1.0156772782640084\n",
      "validation score block 23: 1.5125062123528288\n",
      "validation score block 24: 0.7571237428589614\n",
      "validation score block 25: 0.6518047034434274\n",
      "validation score block 26: 0.5996484116541445\n",
      "validation score block 27: 0.7960043580343723\n",
      "validation score block 28: 0.680343808498972\n",
      "validation score block 29: 0.6042036402567258\n",
      "validation score block 30: 0.5188164897333235\n",
      "validation score block 31: 0.6207758005969615\n",
      "validation score block 32: 0.7703513361332813\n",
      "validation score block 33: 0.8250709779540422\n",
      "validation score mean: [ 0.77220367]\n"
     ]
    }
   ],
   "source": [
    "# use only blocks where meta feature is calculated\n",
    "\n",
    "if SHORT_RUN:\n",
    "    train_block_start = 31\n",
    "    validate_date_block_start = 32\n",
    "    test_date_block = 34\n",
    "else:\n",
    "    train_block_start = 14\n",
    "    validate_date_block_start = 15\n",
    "    test_date_block = 34\n",
    "\n",
    "meta2_tr = np.zeros((len(_train), 1))\n",
    "meta2_te = np.zeros((len(_test), 1))\n",
    "scores_2nd = []\n",
    "\n",
    "for vb in range(validate_date_block_start, test_date_block):\n",
    "    block_tr = _train[\"date_block_num\"]\n",
    "    idx_tr = _train[(block_tr >= train_block_start) & (block_tr < vb)].index\n",
    "    idx_va = _train[block_tr == vb].index\n",
    "    to_drop_cols = ['date_block_num']\n",
    "    x_tr = _train.iloc[idx_tr].drop(to_drop_cols, axis=1)\n",
    "    x_va = _train.iloc[idx_va].drop(to_drop_cols, axis=1)\n",
    "    y_tr = _target.iloc[idx_tr]\n",
    "    y_va = _target.iloc[idx_va]\n",
    "    \n",
    "    model1 = ModelLR()\n",
    "    model1.train(x_tr, y_tr, x_va, y_va)\n",
    "    pred_va1 = model1.predict(x_va)\n",
    "    meta2_tr[idx_va, 0] = pred_va1\n",
    "\n",
    "    score1 = mean_squared_error(y_va, pred_va1)\n",
    "    scores_2nd.append((score1, ))\n",
    "    print(\"validation score block {}: {}\".format(vb, score1))\n",
    "\n",
    "scores_2nd = np.array(scores_2nd)\n",
    "print(\"validation score mean: {}\".format(scores_2nd.mean(axis=0)))\n",
    "\n",
    "for vb in [test_date_block]:\n",
    "    to_drop_cols = ['date_block_num']\n",
    "    idx_tr = _train[(block_tr >= train_block_start)].index\n",
    "    x_tr = _train.iloc[idx_tr].drop(to_drop_cols, axis=1)\n",
    "    x_va = _test.drop(to_drop_cols, axis=1)\n",
    "    y_tr = _target.iloc[idx_tr]\n",
    "    model1 = ModelLR()\n",
    "    model1.train(x_tr, y_tr, None, None)\n",
    "    pred_va1 = model1.predict(x_va)\n",
    "    meta2_te[:, 0] = pred_va1"
   ]
  },
  {
   "cell_type": "markdown",
   "metadata": {},
   "source": [
    "## Submission"
   ]
  },
  {
   "cell_type": "code",
   "execution_count": 16,
   "metadata": {
    "collapsed": true
   },
   "outputs": [],
   "source": [
    "# create submission\n",
    "os.makedirs(\"../submission\", exist_ok=True)\n",
    "submission[\"item_cnt_month\"] = meta2_te\n",
    "submission.to_csv(\"../submission/subm.csv\", index=False)"
   ]
  },
  {
   "cell_type": "markdown",
   "metadata": {},
   "source": [
    "(public and private LB scores are: 0.928847 and 0.939055)"
   ]
  }
 ],
 "metadata": {
  "kernelspec": {
   "display_name": "Python 3",
   "language": "python",
   "name": "python3"
  },
  "language_info": {
   "codemirror_mode": {
    "name": "ipython",
    "version": 3
   },
   "file_extension": ".py",
   "mimetype": "text/x-python",
   "name": "python",
   "nbconvert_exporter": "python",
   "pygments_lexer": "ipython3",
   "version": "3.6.5"
  }
 },
 "nbformat": 4,
 "nbformat_minor": 2
}
